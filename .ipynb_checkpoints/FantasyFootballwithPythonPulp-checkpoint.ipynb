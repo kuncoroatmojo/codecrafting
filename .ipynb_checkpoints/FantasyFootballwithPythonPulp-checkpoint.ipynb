{
 "cells": [
  {
   "cell_type": "markdown",
   "metadata": {},
   "source": [
    "# Optimizing Fantasy Football Squad\n",
    "## Linear Programming with Python PuLP <br /><br />"
   ]
  },
  {
   "cell_type": "markdown",
   "metadata": {},
   "source": [
    "## Problem Statement\n",
    "To start playing [Fantasy Premiere League](https://fantasy.premierleague.com/a/squad/selection), we need to select 15 Premiere League football players within a budget of £100m. The players must consist of 2 goalkeepers, 5, defenders, 5 midfielders, and 3 forwarders. Each player has total score that shows how good he is. How would you come up with the best combination of players that will win the game?\n",
    "\n",
    "**Model the problem** <br />\n",
    "We can see an optimization problem here to be solved. So we'll model the problem.\n",
    "<code>\n",
    "**maximize**: \n",
    "total_score_player1 × total_score_player1 + total_score_player2 × player2 + total_score_player3 × player3 + ... + total_score_playerN × playerN\n",
    "**constraints**:\n",
    "player1, player2, player3, ..., playerN are either 0 or 1\n",
    "cost_player1 × player1 + cost_player2 × player2 + cost_player3 × player3 + ... + cost_playerN × playerN <= 100\n",
    "is_gkp_player1 × player1 + is_gkp_player2 × player2 + is_gkp_player3 × player3 + ... + is_gkp_playerN × playerN = 2\n",
    "is_def_player1 × player1 + is_def_player2 × player2 + is_def_player3 × player3 + ... + is_def_playerN × playerN = 5\n",
    "is_mid_player1 × player1 + is_mid_player2 × player2 + is_mid_player3 × player3 + ... + is_mid_playerN × playerN = 5 \n",
    "is_fwd_player1 × player1 + is_fwd_player2 × player2 + is_fwd_player3 × player3 + ... + is_fwd_playerN × playerN = 3 \n",
    "\n",
    "</code>\n",
    "\n",
    "To create a winning squad, I don't want to spend all budget to 15 of the players equally. I want to spend more money to 11 main players and less to the 4 subtitutes. Even further, I want to spend more to some key players within those 11 players. Intuition come into play (wild guess actually), I ended up with these budgeting.\n",
    "\n",
    "Maximize 5 key players with total £41m\n",
    "\n",
    "><code>\n",
    "**maximize**: \n",
    "total_score_player1 × total_score_player1 + total_score_player2 × player2 + total_score_player3 × player3 + ... + total_score_playerN × playerN\n",
    "**constraints**:\n",
    "player1, player2, player3, ..., playerN are either 0 or 1\n",
    "cost_player1 × player1 + cost_player2 × player2 + cost_player3 × player3 + ... + cost_playerN × playerN <= 41\n",
    "is_gkp_player1 × player1 + is_gkp_player2 × player2 + is_gkp_player3 × player3 + ... + is_gkp_playerN × playerN = 1\n",
    "is_def_player1 × player1 + is_def_player2 × player2 + is_def_player3 × player3 + ... + is_def_playerN × playerN = 1\n",
    "is_mid_player1 × player1 + is_mid_player2 × player2 + is_mid_player3 × player3 + ... + is_mid_playerN × playerN = 1 \n",
    "is_fwd_player1 × player1 + is_fwd_player2 × player2 + is_fwd_player3 × player3 + ... + is_fwd_playerN × playerN = 2\n",
    "</code>\n",
    "\n",
    "Maximize 6 players with total £39.5m\n",
    "\n",
    "><code>\n",
    "**maximize**: \n",
    "total_score_player1 × total_score_player1 + total_score_player2 × player2 + total_score_player3 × player3 + ... + total_score_playerN × playerN\n",
    "**constraints**:\n",
    "player1, player2, player3, ..., playerN are either 0 or 1\n",
    "cost_player1 × player1 + cost_player2 × player2 + cost_player3 × player3 + ... + cost_playerN × playerN <= 39.5\n",
    "is_gkp_player1 × player1 + is_gkp_player2 × player2 + is_gkp_player3 × player3 + ... + is_gkp_playerN × playerN = 0\n",
    "is_def_player1 × player1 + is_def_player2 × player2 + is_def_player3 × player3 + ... + is_def_playerN × playerN = 3\n",
    "is_mid_player1 × player1 + is_mid_player2 × player2 + is_mid_player3 × player3 + ... + is_mid_playerN × playerN = 3 \n",
    "is_fwd_player1 × player1 + is_fwd_player2 × player2 + is_fwd_player3 × player3 + ... + is_fwd_playerN × playerN = 0 \n",
    "</code>\n",
    "\n",
    "Maximize 4 subtitutes with total £19.5m\n",
    "\n",
    "><code>\n",
    "**maximize**: \n",
    "total_score_player1 × total_score_player1 + total_score_player2 × player2 + total_score_player3 × player3 + ... + total_score_playerN × playerN\n",
    "**constraints**:\n",
    "player1, player2, player3, ..., playerN are either 0 or 1\n",
    "cost_player1 × player1 + cost_player2 × player2 + cost_player3 × player3 + ... + cost_playerN × playerN <= 19.5\n",
    "is_gkp_player1 × player1 + is_gkp_player2 × player2 + is_gkp_player3 × player3 + ... + is_gkp_playerN × playerN = 1\n",
    "is_def_player1 × player1 + is_def_player2 × player2 + is_def_player3 × player3 + ... + is_def_playerN × playerN = 1\n",
    "is_mid_player1 × player1 + is_mid_player2 × player2 + is_mid_player3 × player3 + ... + is_mid_playerN × playerN = 1 \n",
    "is_fwd_player1 × player1 + is_fwd_player2 × player2 + is_fwd_player3 × player3 + ... + is_fwd_playerN × playerN = 1 \n",
    "</code>"
   ]
  },
  {
   "cell_type": "markdown",
   "metadata": {},
   "source": [
    "I'll use [Python PuLP](https://www.coin-or.org/PuLP/pulp.html) linear programming to solve the optimization problem and [Python Pandas](https://pandas.pydata.org/) to prepare the data."
   ]
  },
  {
   "cell_type": "code",
   "execution_count": 1,
   "metadata": {
    "collapsed": true
   },
   "outputs": [],
   "source": [
    "import pandas as pd\n",
    "from pulp import *\n",
    "import json\n",
    "import requests\n",
    "import time"
   ]
  },
  {
   "cell_type": "markdown",
   "metadata": {},
   "source": [
    "## Prepare the Data\n",
    "We can find json data for fantasy premiere league [here](https://fantasy.premierleague.com/drf/bootstrap-static). <br />\n",
    "Pay attention to some important attributes here. *now_cost* represents the player's cost ten times (i.e. £4.5m is 45 here), *total_points* is the total score we are trying to maximize, *element_type* is player's position.\n",
    "\n",
    "The player's details are stored inside the json node *elements*, load these into a python pandas data frame."
   ]
  },
  {
   "cell_type": "code",
   "execution_count": 2,
   "metadata": {
    "collapsed": true
   },
   "outputs": [],
   "source": [
    "url = 'https://fantasy.premierleague.com/drf/bootstrap-static'\n",
    "r = ''\n",
    "while r == '':\n",
    "    try:\n",
    "        r = requests.get(url)\n",
    "    except:\n",
    "        time.sleep(5)\n",
    "        continue\n",
    "r = requests.get(url)\n",
    "data = json.dumps((r.json()[\"elements\"]))\n",
    "df = pd.read_json(data, orient = 'records')"
   ]
  },
  {
   "cell_type": "code",
   "execution_count": 3,
   "metadata": {
    "collapsed": true
   },
   "outputs": [],
   "source": [
    "#we don't want players that possibly will not play next round.\n",
    "df = df[(df['chance_of_playing_next_round'] == 100.0)|pd.isnull(df['chance_of_playing_next_round'])].reset_index(drop=True)"
   ]
  },
  {
   "cell_type": "code",
   "execution_count": 4,
   "metadata": {
    "collapsed": true
   },
   "outputs": [],
   "source": [
    "#drop unnecessary attributes\n",
    "df = df[['id','element_type', 'team_code', 'now_cost', 'first_name', 'second_name','total_points', 'form']]"
   ]
  },
  {
   "cell_type": "code",
   "execution_count": 5,
   "metadata": {
    "collapsed": true
   },
   "outputs": [],
   "source": [
    "#replace the values in element_type to its respective positions, find it from the original json\n",
    "df.element_type.replace({1: 'gkp', 2: 'def', 3: 'mid', 4:'fwd'}, inplace = True)"
   ]
  },
  {
   "cell_type": "markdown",
   "metadata": {},
   "source": [
    "Create four new columns representing each value in element_type. Set the values of the new columns to 1 or 0, element_type:gkp becomes element_type_gkp:1, element_type_def:0, element_type_mid:0, element_type_fwd:0. Pandas has cool function to do the job. \n",
    "\n",
    "This is needed so that we can process it with our model."
   ]
  },
  {
   "cell_type": "code",
   "execution_count": 6,
   "metadata": {
    "collapsed": true
   },
   "outputs": [],
   "source": [
    "df = pd.get_dummies(df, columns = ['element_type'])\n"
   ]
  },
  {
   "cell_type": "code",
   "execution_count": 7,
   "metadata": {
    "collapsed": true
   },
   "outputs": [],
   "source": [
    "df = df[df.id!=114] #rule out Diego Costa , He's being transferred but officially still in his team, that's why still in our table"
   ]
  },
  {
   "cell_type": "markdown",
   "metadata": {},
   "source": [
    "## Model & Solve the Problem\n",
    "Each player (each row) will be a variable with possible outcome 1 or 0, 1 means chosen. So we have hundreds of variables. We can use PuLP *lpSum* and Sum the columns."
   ]
  },
  {
   "cell_type": "code",
   "execution_count": 8,
   "metadata": {
    "collapsed": true
   },
   "outputs": [],
   "source": [
    "#input dataframe, # of players for each position. return a dataframe of chosen players\n",
    "def doOptimizePlayers(df, total_cost, n_gkp, n_def, n_mid, n_fwd): \n",
    "    idplayers = df.index.tolist()\n",
    "    prob = LpProblem(\"fantasy football create squad\",LpMaximize)\n",
    "    players_vars = LpVariable.dicts(\"plyr\", idplayers,0,1,LpInteger)\n",
    "\n",
    "    prob += lpSum([df.total_points[i]*players_vars[i] for i in idplayers]), \"objective: maximize total points\"\n",
    "\n",
    "    prob += lpSum([df.now_cost[i]*players_vars[i] for i in idplayers]) <= total_cost,\"cost constrain\"\n",
    "\n",
    "    prob += lpSum([df.element_type_gkp[i]*players_vars[i] for i in idplayers]) == n_gkp, \"# goalkeepers\"\n",
    "    prob += lpSum([df.element_type_def[i]*players_vars[i] for i in idplayers]) == n_def, \"# defenders\"\n",
    "    prob += lpSum([df.element_type_mid[i]*players_vars[i] for i in idplayers]) == n_mid, \"# midfielders\"\n",
    "    prob += lpSum([df.element_type_fwd[i]*players_vars[i] for i in idplayers]) == n_fwd, \"# forwarders\"   \n",
    "\n",
    "    #prob.writeLP(\"FantasyFootball.lp\")\n",
    "    prob.solve()\n",
    "\n",
    "    values = []\n",
    "    variables = {x.name: x.varValue for x in prob.variables()}\n",
    "    for i in players_vars:\n",
    "        key = players_vars[i]\n",
    "        values.append(variables[str(key)])\n",
    "    df['chosen'] = pd.Series(values, index = df.index)\n",
    "\n",
    "    df_chosen = df[df.chosen > 0].sort_values('total_points', ascending = False)\n",
    "    return df_chosen"
   ]
  },
  {
   "cell_type": "markdown",
   "metadata": {},
   "source": [
    "Let's see the five key players! I allocated now_cost 410 for them"
   ]
  },
  {
   "cell_type": "code",
   "execution_count": 9,
   "metadata": {},
   "outputs": [
    {
     "data": {
      "text/html": [
       "<div>\n",
       "<style>\n",
       "    .dataframe thead tr:only-child th {\n",
       "        text-align: right;\n",
       "    }\n",
       "\n",
       "    .dataframe thead th {\n",
       "        text-align: left;\n",
       "    }\n",
       "\n",
       "    .dataframe tbody tr th {\n",
       "        vertical-align: top;\n",
       "    }\n",
       "</style>\n",
       "<table border=\"1\" class=\"dataframe\">\n",
       "  <thead>\n",
       "    <tr style=\"text-align: right;\">\n",
       "      <th></th>\n",
       "      <th>id</th>\n",
       "      <th>team_code</th>\n",
       "      <th>now_cost</th>\n",
       "      <th>first_name</th>\n",
       "      <th>second_name</th>\n",
       "      <th>total_points</th>\n",
       "      <th>form</th>\n",
       "      <th>element_type_def</th>\n",
       "      <th>element_type_fwd</th>\n",
       "      <th>element_type_gkp</th>\n",
       "      <th>element_type_mid</th>\n",
       "      <th>chosen</th>\n",
       "    </tr>\n",
       "  </thead>\n",
       "  <tbody>\n",
       "    <tr>\n",
       "      <th>309</th>\n",
       "      <td>388</td>\n",
       "      <td>6</td>\n",
       "      <td>95</td>\n",
       "      <td>Bamidele</td>\n",
       "      <td>Alli</td>\n",
       "      <td>225</td>\n",
       "      <td>0</td>\n",
       "      <td>0</td>\n",
       "      <td>0</td>\n",
       "      <td>0</td>\n",
       "      <td>1</td>\n",
       "      <td>1.0</td>\n",
       "    </tr>\n",
       "    <tr>\n",
       "      <th>312</th>\n",
       "      <td>394</td>\n",
       "      <td>6</td>\n",
       "      <td>125</td>\n",
       "      <td>Harry</td>\n",
       "      <td>Kane</td>\n",
       "      <td>224</td>\n",
       "      <td>0</td>\n",
       "      <td>0</td>\n",
       "      <td>1</td>\n",
       "      <td>0</td>\n",
       "      <td>0</td>\n",
       "      <td>1.0</td>\n",
       "    </tr>\n",
       "    <tr>\n",
       "      <th>35</th>\n",
       "      <td>51</td>\n",
       "      <td>91</td>\n",
       "      <td>75</td>\n",
       "      <td>Joshua</td>\n",
       "      <td>King</td>\n",
       "      <td>178</td>\n",
       "      <td>0</td>\n",
       "      <td>0</td>\n",
       "      <td>1</td>\n",
       "      <td>0</td>\n",
       "      <td>0</td>\n",
       "      <td>1.0</td>\n",
       "    </tr>\n",
       "    <tr>\n",
       "      <th>76</th>\n",
       "      <td>98</td>\n",
       "      <td>8</td>\n",
       "      <td>65</td>\n",
       "      <td>Gary</td>\n",
       "      <td>Cahill</td>\n",
       "      <td>178</td>\n",
       "      <td>0</td>\n",
       "      <td>1</td>\n",
       "      <td>0</td>\n",
       "      <td>0</td>\n",
       "      <td>0</td>\n",
       "      <td>1.0</td>\n",
       "    </tr>\n",
       "    <tr>\n",
       "      <th>54</th>\n",
       "      <td>74</td>\n",
       "      <td>90</td>\n",
       "      <td>50</td>\n",
       "      <td>Tom</td>\n",
       "      <td>Heaton</td>\n",
       "      <td>149</td>\n",
       "      <td>0</td>\n",
       "      <td>0</td>\n",
       "      <td>0</td>\n",
       "      <td>1</td>\n",
       "      <td>0</td>\n",
       "      <td>1.0</td>\n",
       "    </tr>\n",
       "  </tbody>\n",
       "</table>\n",
       "</div>"
      ],
      "text/plain": [
       "      id  team_code  now_cost first_name second_name  total_points  form  \\\n",
       "309  388          6        95   Bamidele        Alli           225     0   \n",
       "312  394          6       125      Harry        Kane           224     0   \n",
       "35    51         91        75     Joshua        King           178     0   \n",
       "76    98          8        65       Gary      Cahill           178     0   \n",
       "54    74         90        50        Tom      Heaton           149     0   \n",
       "\n",
       "     element_type_def  element_type_fwd  element_type_gkp  element_type_mid  \\\n",
       "309                 0                 0                 0                 1   \n",
       "312                 0                 1                 0                 0   \n",
       "35                  0                 1                 0                 0   \n",
       "76                  1                 0                 0                 0   \n",
       "54                  0                 0                 1                 0   \n",
       "\n",
       "     chosen  \n",
       "309     1.0  \n",
       "312     1.0  \n",
       "35      1.0  \n",
       "76      1.0  \n",
       "54      1.0  "
      ]
     },
     "execution_count": 9,
     "metadata": {},
     "output_type": "execute_result"
    }
   ],
   "source": [
    "df_chosen1 = doOptimizePlayers(df,410,1,1,1,2)\n",
    "df_chosen1"
   ]
  },
  {
   "cell_type": "code",
   "execution_count": 10,
   "metadata": {},
   "outputs": [
    {
     "data": {
      "text/plain": [
       "410L"
      ]
     },
     "execution_count": 10,
     "metadata": {},
     "output_type": "execute_result"
    }
   ],
   "source": [
    "#See if we've used up all 410, we reuse the money if there's some left\n",
    "df_chosen1.now_cost.sum()"
   ]
  },
  {
   "cell_type": "code",
   "execution_count": 12,
   "metadata": {},
   "outputs": [],
   "source": [
    "#We don't want the players we've chosen in the table anymore\n",
    "df = df[~df.index.isin(df_chosen1.index)]"
   ]
  },
  {
   "cell_type": "markdown",
   "metadata": {},
   "source": [
    "Let's see the other five main players, I allocated now_cost 395 "
   ]
  },
  {
   "cell_type": "code",
   "execution_count": 13,
   "metadata": {},
   "outputs": [
    {
     "name": "stdout",
     "output_type": "stream",
     "text": [
      "      id  team_code  now_cost first_name  second_name  total_points  form  \\\n",
      "308  387          6        95  Christian      Eriksen           218     0   \n",
      "78   100          8        70     Marcos       Alonso           177     0   \n",
      "75    97          8        65      César  Azpilicueta           170     0   \n",
      "20    34         91        50    Charlie      Daniels           134     0   \n",
      "354  448         21        60     Robert    Snodgrass           133     0   \n",
      "325  409         57        55    Etienne       Capoue           131     0   \n",
      "\n",
      "     element_type_def  element_type_fwd  element_type_gkp  element_type_mid  \\\n",
      "308                 0                 0                 0                 1   \n",
      "78                  1                 0                 0                 0   \n",
      "75                  1                 0                 0                 0   \n",
      "20                  1                 0                 0                 0   \n",
      "354                 0                 0                 0                 1   \n",
      "325                 0                 0                 0                 1   \n",
      "\n",
      "     chosen  \n",
      "308     1.0  \n",
      "78      1.0  \n",
      "75      1.0  \n",
      "20      1.0  \n",
      "354     1.0  \n",
      "325     1.0  \n",
      "395\n"
     ]
    }
   ],
   "source": [
    "df_chosen2  = doOptimizePlayers(df, 395, 0, 3, 3, 0)\n",
    "print df_chosen2\n",
    "print df_chosen2.now_cost.sum()\n"
   ]
  },
  {
   "cell_type": "code",
   "execution_count": 14,
   "metadata": {
    "collapsed": true,
    "scrolled": true
   },
   "outputs": [],
   "source": [
    "df = df[~df.index.isin(df_chosen2.index)]"
   ]
  },
  {
   "cell_type": "markdown",
   "metadata": {},
   "source": [
    "This time we optimize the four subtitute players with the rest of the money"
   ]
  },
  {
   "cell_type": "code",
   "execution_count": 15,
   "metadata": {},
   "outputs": [
    {
     "name": "stdout",
     "output_type": "stream",
     "text": [
      "      id  team_code  now_cost first_name  second_name  total_points  form  \\\n",
      "69    91         90        60        Sam        Vokes           121     0   \n",
      "17    30         91        45      Artur        Boruc           120     0   \n",
      "56    77         90        45        Ben          Mee            94     0   \n",
      "253  320         20        45      Oriol  Romeu Vidal            80     0   \n",
      "\n",
      "     element_type_def  element_type_fwd  element_type_gkp  element_type_mid  \\\n",
      "69                  0                 1                 0                 0   \n",
      "17                  0                 0                 1                 0   \n",
      "56                  1                 0                 0                 0   \n",
      "253                 0                 0                 0                 1   \n",
      "\n",
      "     chosen  \n",
      "69      1.0  \n",
      "17      1.0  \n",
      "56      1.0  \n",
      "253     1.0  \n"
     ]
    },
    {
     "data": {
      "text/plain": [
       "195L"
      ]
     },
     "execution_count": 15,
     "metadata": {},
     "output_type": "execute_result"
    }
   ],
   "source": [
    "df_chosen3 = doOptimizePlayers(df, 195, 1, 1, 1, 1)\n",
    "print df_chosen3\n",
    "df_chosen3.now_cost.sum()"
   ]
  },
  {
   "cell_type": "markdown",
   "metadata": {},
   "source": [
    "## Final Result!"
   ]
  },
  {
   "cell_type": "code",
   "execution_count": 16,
   "metadata": {
    "collapsed": true
   },
   "outputs": [],
   "source": [
    "#combine all results\n",
    "df_final = pd.concat([df_chosen1,df_chosen2,df_chosen3])[['now_cost', 'first_name', 'second_name','total_points','element_type_def','element_type_fwd','element_type_gkp','element_type_mid', 'team_code']]"
   ]
  },
  {
   "cell_type": "code",
   "execution_count": 17,
   "metadata": {
    "scrolled": true
   },
   "outputs": [
    {
     "data": {
      "text/html": [
       "<div>\n",
       "<style>\n",
       "    .dataframe thead tr:only-child th {\n",
       "        text-align: right;\n",
       "    }\n",
       "\n",
       "    .dataframe thead th {\n",
       "        text-align: left;\n",
       "    }\n",
       "\n",
       "    .dataframe tbody tr th {\n",
       "        vertical-align: top;\n",
       "    }\n",
       "</style>\n",
       "<table border=\"1\" class=\"dataframe\">\n",
       "  <thead>\n",
       "    <tr style=\"text-align: right;\">\n",
       "      <th></th>\n",
       "      <th>now_cost</th>\n",
       "      <th>first_name</th>\n",
       "      <th>second_name</th>\n",
       "      <th>total_points</th>\n",
       "      <th>team_code</th>\n",
       "      <th>position</th>\n",
       "    </tr>\n",
       "  </thead>\n",
       "  <tbody>\n",
       "    <tr>\n",
       "      <th>309</th>\n",
       "      <td>95</td>\n",
       "      <td>Bamidele</td>\n",
       "      <td>Alli</td>\n",
       "      <td>225</td>\n",
       "      <td>6</td>\n",
       "      <td>element_type_mid</td>\n",
       "    </tr>\n",
       "    <tr>\n",
       "      <th>308</th>\n",
       "      <td>95</td>\n",
       "      <td>Christian</td>\n",
       "      <td>Eriksen</td>\n",
       "      <td>218</td>\n",
       "      <td>6</td>\n",
       "      <td>element_type_mid</td>\n",
       "    </tr>\n",
       "    <tr>\n",
       "      <th>354</th>\n",
       "      <td>60</td>\n",
       "      <td>Robert</td>\n",
       "      <td>Snodgrass</td>\n",
       "      <td>133</td>\n",
       "      <td>21</td>\n",
       "      <td>element_type_mid</td>\n",
       "    </tr>\n",
       "    <tr>\n",
       "      <th>325</th>\n",
       "      <td>55</td>\n",
       "      <td>Etienne</td>\n",
       "      <td>Capoue</td>\n",
       "      <td>131</td>\n",
       "      <td>57</td>\n",
       "      <td>element_type_mid</td>\n",
       "    </tr>\n",
       "    <tr>\n",
       "      <th>253</th>\n",
       "      <td>45</td>\n",
       "      <td>Oriol</td>\n",
       "      <td>Romeu Vidal</td>\n",
       "      <td>80</td>\n",
       "      <td>20</td>\n",
       "      <td>element_type_mid</td>\n",
       "    </tr>\n",
       "    <tr>\n",
       "      <th>54</th>\n",
       "      <td>50</td>\n",
       "      <td>Tom</td>\n",
       "      <td>Heaton</td>\n",
       "      <td>149</td>\n",
       "      <td>90</td>\n",
       "      <td>element_type_gkp</td>\n",
       "    </tr>\n",
       "    <tr>\n",
       "      <th>17</th>\n",
       "      <td>45</td>\n",
       "      <td>Artur</td>\n",
       "      <td>Boruc</td>\n",
       "      <td>120</td>\n",
       "      <td>91</td>\n",
       "      <td>element_type_gkp</td>\n",
       "    </tr>\n",
       "    <tr>\n",
       "      <th>312</th>\n",
       "      <td>125</td>\n",
       "      <td>Harry</td>\n",
       "      <td>Kane</td>\n",
       "      <td>224</td>\n",
       "      <td>6</td>\n",
       "      <td>element_type_fwd</td>\n",
       "    </tr>\n",
       "    <tr>\n",
       "      <th>35</th>\n",
       "      <td>75</td>\n",
       "      <td>Joshua</td>\n",
       "      <td>King</td>\n",
       "      <td>178</td>\n",
       "      <td>91</td>\n",
       "      <td>element_type_fwd</td>\n",
       "    </tr>\n",
       "    <tr>\n",
       "      <th>69</th>\n",
       "      <td>60</td>\n",
       "      <td>Sam</td>\n",
       "      <td>Vokes</td>\n",
       "      <td>121</td>\n",
       "      <td>90</td>\n",
       "      <td>element_type_fwd</td>\n",
       "    </tr>\n",
       "    <tr>\n",
       "      <th>76</th>\n",
       "      <td>65</td>\n",
       "      <td>Gary</td>\n",
       "      <td>Cahill</td>\n",
       "      <td>178</td>\n",
       "      <td>8</td>\n",
       "      <td>element_type_def</td>\n",
       "    </tr>\n",
       "    <tr>\n",
       "      <th>78</th>\n",
       "      <td>70</td>\n",
       "      <td>Marcos</td>\n",
       "      <td>Alonso</td>\n",
       "      <td>177</td>\n",
       "      <td>8</td>\n",
       "      <td>element_type_def</td>\n",
       "    </tr>\n",
       "    <tr>\n",
       "      <th>75</th>\n",
       "      <td>65</td>\n",
       "      <td>César</td>\n",
       "      <td>Azpilicueta</td>\n",
       "      <td>170</td>\n",
       "      <td>8</td>\n",
       "      <td>element_type_def</td>\n",
       "    </tr>\n",
       "    <tr>\n",
       "      <th>20</th>\n",
       "      <td>50</td>\n",
       "      <td>Charlie</td>\n",
       "      <td>Daniels</td>\n",
       "      <td>134</td>\n",
       "      <td>91</td>\n",
       "      <td>element_type_def</td>\n",
       "    </tr>\n",
       "    <tr>\n",
       "      <th>56</th>\n",
       "      <td>45</td>\n",
       "      <td>Ben</td>\n",
       "      <td>Mee</td>\n",
       "      <td>94</td>\n",
       "      <td>90</td>\n",
       "      <td>element_type_def</td>\n",
       "    </tr>\n",
       "  </tbody>\n",
       "</table>\n",
       "</div>"
      ],
      "text/plain": [
       "     now_cost first_name  second_name  total_points  team_code  \\\n",
       "309        95   Bamidele         Alli           225          6   \n",
       "308        95  Christian      Eriksen           218          6   \n",
       "354        60     Robert    Snodgrass           133         21   \n",
       "325        55    Etienne       Capoue           131         57   \n",
       "253        45      Oriol  Romeu Vidal            80         20   \n",
       "54         50        Tom       Heaton           149         90   \n",
       "17         45      Artur        Boruc           120         91   \n",
       "312       125      Harry         Kane           224          6   \n",
       "35         75     Joshua         King           178         91   \n",
       "69         60        Sam        Vokes           121         90   \n",
       "76         65       Gary       Cahill           178          8   \n",
       "78         70     Marcos       Alonso           177          8   \n",
       "75         65      César  Azpilicueta           170          8   \n",
       "20         50    Charlie      Daniels           134         91   \n",
       "56         45        Ben          Mee            94         90   \n",
       "\n",
       "             position  \n",
       "309  element_type_mid  \n",
       "308  element_type_mid  \n",
       "354  element_type_mid  \n",
       "325  element_type_mid  \n",
       "253  element_type_mid  \n",
       "54   element_type_gkp  \n",
       "17   element_type_gkp  \n",
       "312  element_type_fwd  \n",
       "35   element_type_fwd  \n",
       "69   element_type_fwd  \n",
       "76   element_type_def  \n",
       "78   element_type_def  \n",
       "75   element_type_def  \n",
       "20   element_type_def  \n",
       "56   element_type_def  "
      ]
     },
     "execution_count": 17,
     "metadata": {},
     "output_type": "execute_result"
    }
   ],
   "source": [
    "#reverse pd.get_dummies element_type into a column position\n",
    "x = df_final[['element_type_def','element_type_fwd','element_type_gkp','element_type_mid']]\n",
    "df_final['position'] = x.idxmax(1) \n",
    "df_final.drop(axis = 1, labels = ['element_type_def','element_type_fwd','element_type_gkp','element_type_mid']).sort_values(['position','total_points'], ascending = False)"
   ]
  },
  {
   "cell_type": "markdown",
   "metadata": {},
   "source": [
    "The player looks good! woohoo."
   ]
  },
  {
   "cell_type": "markdown",
   "metadata": {},
   "source": [
    "Notes: <br />\n",
    "* Yeah, playing fantasy football has a lot more to do than this. But it actually helps, lol! And I had fun doing the math & coding, that's the important part.\n",
    "* Python PuLP might be easy to read if we don't have that many variables. It's not nice to do for loop, iterating the values in the table to feed the PuLP equation. I like [Scipy Linprog's](https://docs.scipy.org/doc/scipy-0.15.1/reference/generated/scipy.optimize.linprog.html) syntax better, unfortunately it doesn't support integer linear programming."
   ]
  },
  {
   "cell_type": "code",
   "execution_count": null,
   "metadata": {
    "collapsed": true
   },
   "outputs": [],
   "source": []
  }
 ],
 "metadata": {
  "kernelspec": {
   "display_name": "Python 2",
   "language": "python",
   "name": "python2"
  },
  "language_info": {
   "codemirror_mode": {
    "name": "ipython",
    "version": 2
   },
   "file_extension": ".py",
   "mimetype": "text/x-python",
   "name": "python",
   "nbconvert_exporter": "python",
   "pygments_lexer": "ipython2",
   "version": "2.7.13"
  }
 },
 "nbformat": 4,
 "nbformat_minor": 2
}
