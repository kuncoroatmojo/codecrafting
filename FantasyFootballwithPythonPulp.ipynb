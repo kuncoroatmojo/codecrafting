{
 "cells": [
  {
   "cell_type": "markdown",
   "metadata": {},
   "source": [
    "# Optimizing Fantasy Football Squad\n",
    "## Linear Programming with Python PuLP <br /><br />"
   ]
  },
  {
   "cell_type": "markdown",
   "metadata": {
    "tags": []
   },
   "source": [
    "## Problem Statement\n",
    "To start playing [Fantasy Premiere League](https://fantasy.premierleague.com/a/squad/selection), we need to select 15 Premiere League football players within a budget of £100m. The players must consist of 2 goalkeepers, 5, defenders, 5 midfielders, and 3 forwarders. Each player has total score that shows how good he is. How would you come up with the best combination of players that will win the game?\n",
    "\n",
    "**Model the problem** <br />\n",
    "We can see an optimization problem here to be solved. So we'll model the problem.\n",
    "<code>\n",
    "**maximize**: \n",
    "total_score_player1 × total_score_player1 + total_score_player2 × player2 + total_score_player3 × player3 + ... + total_score_playerN × playerN\n",
    "**constraints**:\n",
    "player1, player2, player3, ..., playerN are either 0 or 1\n",
    "cost_player1 × player1 + cost_player2 × player2 + cost_player3 × player3 + ... + cost_playerN × playerN <= 100\n",
    "is_gkp_player1 × player1 + is_gkp_player2 × player2 + is_gkp_player3 × player3 + ... + is_gkp_playerN × playerN = 2\n",
    "is_def_player1 × player1 + is_def_player2 × player2 + is_def_player3 × player3 + ... + is_def_playerN × playerN = 5\n",
    "is_mid_player1 × player1 + is_mid_player2 × player2 + is_mid_player3 × player3 + ... + is_mid_playerN × playerN = 5 \n",
    "is_fwd_player1 × player1 + is_fwd_player2 × player2 + is_fwd_player3 × player3 + ... + is_fwd_playerN × playerN = 3 \n",
    "\n",
    "</code>\n",
    "\n",
    "To create a winning squad, I don't want to spend all budget to 15 of the players equally. I want to spend more money to 11 main players and less to the 4 subtitutes. First, choose 4 subtitute by choosing the cheapest players, then see how much left in your budget.\n",
    "In my case with 4-5-1 formation, I choose 1 goalkeeper, 1 defender, and 2 forwarders as subtitute. I have £83 left in my budget to choose 1 goalkeeper, 4 defenders, 5 midfielders, and 1 forwarder.\n",
    "\n",
    "Maximize 1 goalkeeper, 4 defenders, 5 midfielders, and 1 forwarder with total £83m\n",
    "\n",
    "><code>\n",
    "**maximize**: \n",
    "total_score_player1 × total_score_player1 + total_score_player2 × player2 + total_score_player3 × player3 + ... + total_score_playerN × playerN\n",
    "**constraints**:\n",
    "player1, player2, player3, ..., playerN are either 0 or 1\n",
    "cost_player1 × player1 + cost_player2 × player2 + cost_player3 × player3 + ... + cost_playerN × playerN <= 83\n",
    "is_gkp_player1 × player1 + is_gkp_player2 × player2 + is_gkp_player3 × player3 + ... + is_gkp_playerN × playerN = 1\n",
    "is_def_player1 × player1 + is_def_player2 × player2 + is_def_player3 × player3 + ... + is_def_playerN × playerN = 4\n",
    "is_mid_player1 × player1 + is_mid_player2 × player2 + is_mid_player3 × player3 + ... + is_mid_playerN × playerN = 5\n",
    "is_fwd_player1 × player1 + is_fwd_player2 × player2 + is_fwd_player3 × player3 + ... + is_fwd_playerN × playerN = 1\n",
    "</code>"
   ]
  },
  {
   "cell_type": "markdown",
   "metadata": {},
   "source": [
    "I'll use [Python PuLP](https://www.coin-or.org/PuLP/pulp.html) linear programming to solve the optimization problem and [Python Pandas](https://pandas.pydata.org/) to prepare the data."
   ]
  },
  {
   "cell_type": "code",
   "execution_count": 1,
   "metadata": {},
   "outputs": [],
   "source": [
    "import pandas as pd\n",
    "from pulp import *\n",
    "import json\n",
    "import requests\n",
    "import time"
   ]
  },
  {
   "cell_type": "markdown",
   "metadata": {},
   "source": [
    "## Prepare the Data\n",
    "We can find json data for fantasy premiere league [here](https://fantasy.premierleague.com/drf/bootstrap-static). <br />\n",
    "Pay attention to some important attributes here. *now_cost* represents the player's cost ten times (i.e. £4.5m is 45 here), *total_points* is the total score we are trying to maximize, *element_type* is player's position.\n",
    "\n",
    "The player's details are stored inside the json node *elements*, load these into a python pandas data frame."
   ]
  },
  {
   "cell_type": "code",
   "execution_count": 19,
   "metadata": {},
   "outputs": [],
   "source": [
    "url = 'https://fantasy.premierleague.com/api/bootstrap-static/'\n",
    "r = ''\n",
    "while r == '':\n",
    "    try:\n",
    "        r = requests.get(url)\n",
    "    except:\n",
    "        time.sleep(5)\n",
    "        continue\n",
    "r = requests.get(url)\n",
    "data = json.dumps((r.json()[\"elements\"]))\n",
    "df = pd.read_json(data, orient = 'records')"
   ]
  },
  {
   "cell_type": "code",
   "execution_count": 20,
   "metadata": {},
   "outputs": [],
   "source": [
    "#we don't want players that possibly will not play next round.\n",
    "#df = df[(df['chance_of_playing_next_round'] == 100.0)|pd.isnull(df['chance_of_playing_next_round'])].reset_index(drop=True)"
   ]
  },
  {
   "cell_type": "code",
   "execution_count": 21,
   "metadata": {},
   "outputs": [],
   "source": [
    "#drop unnecessary attributes\n",
    "df = df[['id','element_type', 'team_code', 'now_cost', 'first_name', 'second_name','total_points', 'form']]"
   ]
  },
  {
   "cell_type": "code",
   "execution_count": 22,
   "metadata": {},
   "outputs": [],
   "source": [
    "#replace the values in element_type to its respective positions, find it from the original json\n",
    "df.element_type.replace({1: 'gkp', 2: 'def', 3: 'mid', 4:'fwd'}, inplace = True)"
   ]
  },
  {
   "cell_type": "markdown",
   "metadata": {},
   "source": [
    "Create four new columns representing each value in element_type. Set the values of the new columns to 1 or 0, element_type:gkp becomes element_type_gkp:1, element_type_def:0, element_type_mid:0, element_type_fwd:0. Pandas has cool function to do the job. \n",
    "\n",
    "This is needed so that we can process it with our model."
   ]
  },
  {
   "cell_type": "code",
   "execution_count": 23,
   "metadata": {},
   "outputs": [],
   "source": [
    "df = pd.get_dummies(df, columns = ['element_type'])\n"
   ]
  },
  {
   "cell_type": "code",
   "execution_count": 24,
   "metadata": {},
   "outputs": [],
   "source": [
    "#df = df[df.id!=114] #rule out Diego Costa , He's being transferred but officially still in his team, that's why still in our table"
   ]
  },
  {
   "cell_type": "markdown",
   "metadata": {},
   "source": [
    "## Model & Solve the Problem\n",
    "Each player (each row) will be a variable with possible outcome 1 or 0, 1 means chosen. So we have hundreds of variables. We can use PuLP *lpSum* and Sum the columns."
   ]
  },
  {
   "cell_type": "code",
   "execution_count": 25,
   "metadata": {},
   "outputs": [],
   "source": [
    "#input dataframe, # of players for each position. return a dataframe of chosen players\n",
    "def doOptimizePlayers(df, total_cost, n_gkp, n_def, n_mid, n_fwd): \n",
    "    df1 = df.copy()\n",
    "    idplayers = df1.index.tolist()\n",
    "    prob = LpProblem(\"fantasy football create squad\",LpMaximize)\n",
    "    players_vars = LpVariable.dicts(\"plyr\", idplayers,0,1,LpInteger)\n",
    "\n",
    "    prob += lpSum([df1.total_points[i]*players_vars[i] for i in idplayers]), \"objective: maximize total points\"\n",
    "\n",
    "    prob += lpSum([df1.now_cost[i]*players_vars[i] for i in idplayers]) <= total_cost,\"cost constrain\"\n",
    "\n",
    "    prob += lpSum([df1.element_type_gkp[i]*players_vars[i] for i in idplayers]) == n_gkp, \"# goalkeepers\"\n",
    "    prob += lpSum([df1.element_type_def[i]*players_vars[i] for i in idplayers]) == n_def, \"# defenders\"\n",
    "    prob += lpSum([df1.element_type_mid[i]*players_vars[i] for i in idplayers]) == n_mid, \"# midfielders\"\n",
    "    prob += lpSum([df1.element_type_fwd[i]*players_vars[i] for i in idplayers]) == n_fwd, \"# forwarders\"   \n",
    "\n",
    "    #prob.writeLP(\"FantasyFootball.lp\")\n",
    "    prob.solve()\n",
    "\n",
    "    values = []\n",
    "    variables = {x.name: x.varValue for x in prob.variables()}\n",
    "    for i in players_vars:\n",
    "        key = players_vars[i]\n",
    "        values.append(variables[str(key)])\n",
    "    df1['chosen'] = pd.Series(values, index = df1.index)\n",
    "\n",
    "    df_chosen = df1[df1.chosen > 0].sort_values('total_points', ascending = False)\n",
    "    return df_chosen"
   ]
  },
  {
   "cell_type": "markdown",
   "metadata": {},
   "source": [
    "Let's see the five key players! I allocated now_cost 410 for them"
   ]
  },
  {
   "cell_type": "code",
   "execution_count": null,
   "metadata": {},
   "outputs": [],
   "source": [
    "df_chosen1 = doOptimizePlayers(df,830,1,4,5,1)\n",
    "df_chosen1"
   ]
  },
  {
   "cell_type": "code",
   "execution_count": 36,
   "metadata": {},
   "outputs": [
    {
     "data": {
      "text/plain": [
       "830"
      ]
     },
     "execution_count": 36,
     "metadata": {},
     "output_type": "execute_result"
    }
   ],
   "source": [
    "#See if we've used up all 410, we reuse the money if there's some left\n",
    "df_chosen1.now_cost.sum()"
   ]
  },
  {
   "cell_type": "code",
   "execution_count": 37,
   "metadata": {},
   "outputs": [
    {
     "data": {
      "text/plain": [
       "2063"
      ]
     },
     "execution_count": 37,
     "metadata": {},
     "output_type": "execute_result"
    }
   ],
   "source": [
    "df_chosen1.total_points.sum()"
   ]
  },
  {
   "cell_type": "code",
   "execution_count": null,
   "metadata": {},
   "outputs": [],
   "source": [
    "#We don't want the players we've chosen in the table anymore\n",
    "df = df[~df.index.isin(df_chosen1.index)]"
   ]
  },
  {
   "cell_type": "markdown",
   "metadata": {},
   "source": [
    "Let's see the other five main players, I allocated now_cost 395 "
   ]
  },
  {
   "cell_type": "code",
   "execution_count": null,
   "metadata": {},
   "outputs": [],
   "source": [
    "#df = df[df.id!=159]\n",
    "#dx = df.loc[df.id!=468]\n",
    "#dx = dx.loc[dx.id!=352]\n",
    "df_chosen2  = doOptimizePlayers(df, 45, 0, 0, 0, 1)\n",
    "df_chosen2"
   ]
  },
  {
   "cell_type": "code",
   "execution_count": null,
   "metadata": {},
   "outputs": [],
   "source": [
    "print df_chosen2.now_cost.sum()\n",
    "print df_chosen2.total_points.sum()"
   ]
  },
  {
   "cell_type": "code",
   "execution_count": null,
   "metadata": {
    "scrolled": true
   },
   "outputs": [],
   "source": [
    "df = df[~df.index.isin(df_chosen2.index)]"
   ]
  },
  {
   "cell_type": "markdown",
   "metadata": {},
   "source": [
    "This time we optimize the four subtitute players with the rest of the money"
   ]
  },
  {
   "cell_type": "code",
   "execution_count": null,
   "metadata": {},
   "outputs": [],
   "source": [
    "df_chosen3 = doOptimizePlayers(df, 195, 1, 1, 1, 1)\n",
    "print df_chosen3\n",
    "df_chosen3.now_cost.sum()"
   ]
  },
  {
   "cell_type": "markdown",
   "metadata": {},
   "source": [
    "## Final Result!"
   ]
  },
  {
   "cell_type": "code",
   "execution_count": null,
   "metadata": {},
   "outputs": [],
   "source": [
    "#combine all results\n",
    "df_final = pd.concat([df_chosen1,df_chosen2,df_chosen3])[['now_cost', 'first_name', 'second_name','total_points','element_type_def','element_type_fwd','element_type_gkp','element_type_mid', 'team_code']]"
   ]
  },
  {
   "cell_type": "code",
   "execution_count": null,
   "metadata": {
    "scrolled": true
   },
   "outputs": [],
   "source": [
    "#reverse pd.get_dummies element_type into a column position\n",
    "x = df_final[['element_type_def','element_type_fwd','element_type_gkp','element_type_mid']]\n",
    "df_final['position'] = x.idxmax(1) \n",
    "df_final.drop(axis = 1, labels = ['element_type_def','element_type_fwd','element_type_gkp','element_type_mid']).sort_values(['position','total_points'], ascending = False)"
   ]
  },
  {
   "cell_type": "markdown",
   "metadata": {},
   "source": [
    "The player looks good! woohoo."
   ]
  },
  {
   "cell_type": "markdown",
   "metadata": {},
   "source": [
    "Notes: <br />\n",
    "* Yeah, playing fantasy football has a lot more to do than this. But it actually helps, lol! And I had fun doing the math & coding, that's the important part.\n",
    "* Python PuLP might be easy to read if we don't have that many variables. It's not nice to do for loop, iterating the values in the table to feed the PuLP equation. I like [Scipy Linprog's](https://docs.scipy.org/doc/scipy-0.15.1/reference/generated/scipy.optimize.linprog.html) syntax better, unfortunately it doesn't support integer linear programming."
   ]
  },
  {
   "cell_type": "code",
   "execution_count": null,
   "metadata": {},
   "outputs": [],
   "source": []
  }
 ],
 "metadata": {
  "kernelspec": {
   "display_name": "Python 3 (ipykernel)",
   "language": "python",
   "name": "python3"
  },
  "language_info": {
   "codemirror_mode": {
    "name": "ipython",
    "version": 3
   },
   "file_extension": ".py",
   "mimetype": "text/x-python",
   "name": "python",
   "nbconvert_exporter": "python",
   "pygments_lexer": "ipython3",
   "version": "3.9.13"
  }
 },
 "nbformat": 4,
 "nbformat_minor": 4
}
